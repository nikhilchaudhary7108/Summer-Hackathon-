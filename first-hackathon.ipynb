{
 "cells": [
  {
   "cell_type": "code",
   "execution_count": 1,
   "id": "a3d86d77",
   "metadata": {
    "_cell_guid": "b1076dfc-b9ad-4769-8c92-a6c4dae69d19",
    "_uuid": "8f2839f25d086af736a60e9eeb907d3b93b6e0e5",
    "execution": {
     "iopub.execute_input": "2025-06-12T04:53:06.727951Z",
     "iopub.status.busy": "2025-06-12T04:53:06.727647Z",
     "iopub.status.idle": "2025-06-12T04:53:08.473977Z",
     "shell.execute_reply": "2025-06-12T04:53:08.472966Z"
    },
    "papermill": {
     "duration": 1.753983,
     "end_time": "2025-06-12T04:53:08.475521",
     "exception": false,
     "start_time": "2025-06-12T04:53:06.721538",
     "status": "completed"
    },
    "tags": []
   },
   "outputs": [
    {
     "name": "stdout",
     "output_type": "stream",
     "text": [
      "/kaggle/input/summer-analytics-mid-hackathon/hacktest.csv\n",
      "/kaggle/input/summer-analytics-mid-hackathon/hacktrain.csv\n"
     ]
    }
   ],
   "source": [
    "# This Python 3 environment comes with many helpful analytics libraries installed\n",
    "# It is defined by the kaggle/python Docker image: https://github.com/kaggle/docker-python\n",
    "# For example, here's several helpful packages to load\n",
    "\n",
    "import numpy as np # linear algebra\n",
    "import pandas as pd # data processing, CSV file I/O (e.g. pd.read_csv)\n",
    "\n",
    "# Input data files are available in the read-only \"../input/\" directory\n",
    "# For example, running this (by clicking run or pressing Shift+Enter) will list all files under the input directory\n",
    "\n",
    "import os\n",
    "for dirname, _, filenames in os.walk('/kaggle/input'):\n",
    "    for filename in filenames:\n",
    "        print(os.path.join(dirname, filename))\n",
    "\n",
    "# You can write up to 20GB to the current directory (/kaggle/working/) that gets preserved as output when you create a version using \"Save & Run All\" \n",
    "# You can also write temporary files to /kaggle/temp/, but they won't be saved outside of the current session"
   ]
  },
  {
   "cell_type": "code",
   "execution_count": 2,
   "id": "38f8fa6d",
   "metadata": {
    "execution": {
     "iopub.execute_input": "2025-06-12T04:53:08.485456Z",
     "iopub.status.busy": "2025-06-12T04:53:08.485062Z",
     "iopub.status.idle": "2025-06-12T04:53:10.789673Z",
     "shell.execute_reply": "2025-06-12T04:53:10.788848Z"
    },
    "papermill": {
     "duration": 2.311346,
     "end_time": "2025-06-12T04:53:10.791385",
     "exception": false,
     "start_time": "2025-06-12T04:53:08.480039",
     "status": "completed"
    },
    "tags": []
   },
   "outputs": [],
   "source": [
    "import pandas as pd\n",
    "import numpy as np\n",
    "import os\n",
    "import matplotlib.pyplot as plt\n",
    "import seaborn as sns\n",
    "from sklearn.impute import KNNImputer\n",
    "from sklearn.linear_model import LogisticRegression\n",
    "from sklearn.model_selection import train_test_split, GridSearchCV\n",
    "from sklearn.preprocessing import StandardScaler, LabelEncoder\n",
    "from sklearn.metrics import classification_report\n",
    "from sklearn.pipeline import Pipeline"
   ]
  },
  {
   "cell_type": "code",
   "execution_count": 3,
   "id": "e2a84570",
   "metadata": {
    "execution": {
     "iopub.execute_input": "2025-06-12T04:53:10.801621Z",
     "iopub.status.busy": "2025-06-12T04:53:10.801194Z",
     "iopub.status.idle": "2025-06-12T04:53:10.876382Z",
     "shell.execute_reply": "2025-06-12T04:53:10.875425Z"
    },
    "papermill": {
     "duration": 0.082524,
     "end_time": "2025-06-12T04:53:10.878512",
     "exception": false,
     "start_time": "2025-06-12T04:53:10.795988",
     "status": "completed"
    },
    "tags": []
   },
   "outputs": [],
   "source": [
    "df = pd.read_csv(\"/kaggle/input/summer-analytics-mid-hackathon/hacktrain.csv\")\n"
   ]
  },
  {
   "cell_type": "code",
   "execution_count": 4,
   "id": "c313ae01",
   "metadata": {
    "execution": {
     "iopub.execute_input": "2025-06-12T04:53:10.895209Z",
     "iopub.status.busy": "2025-06-12T04:53:10.894748Z",
     "iopub.status.idle": "2025-06-12T04:53:10.943848Z",
     "shell.execute_reply": "2025-06-12T04:53:10.942831Z"
    },
    "papermill": {
     "duration": 0.059669,
     "end_time": "2025-06-12T04:53:10.945384",
     "exception": false,
     "start_time": "2025-06-12T04:53:10.885715",
     "status": "completed"
    },
    "tags": []
   },
   "outputs": [
    {
     "name": "stderr",
     "output_type": "stream",
     "text": [
      "/usr/local/lib/python3.11/dist-packages/pandas/io/formats/format.py:1458: RuntimeWarning: invalid value encountered in greater\n",
      "  has_large_values = (abs_vals > 1e6).any()\n",
      "/usr/local/lib/python3.11/dist-packages/pandas/io/formats/format.py:1459: RuntimeWarning: invalid value encountered in less\n",
      "  has_small_values = ((abs_vals < 10 ** (-self.digits)) & (abs_vals > 0)).any()\n",
      "/usr/local/lib/python3.11/dist-packages/pandas/io/formats/format.py:1459: RuntimeWarning: invalid value encountered in greater\n",
      "  has_small_values = ((abs_vals < 10 ** (-self.digits)) & (abs_vals > 0)).any()\n",
      "/usr/local/lib/python3.11/dist-packages/pandas/io/formats/format.py:1458: RuntimeWarning: invalid value encountered in greater\n",
      "  has_large_values = (abs_vals > 1e6).any()\n",
      "/usr/local/lib/python3.11/dist-packages/pandas/io/formats/format.py:1459: RuntimeWarning: invalid value encountered in less\n",
      "  has_small_values = ((abs_vals < 10 ** (-self.digits)) & (abs_vals > 0)).any()\n",
      "/usr/local/lib/python3.11/dist-packages/pandas/io/formats/format.py:1459: RuntimeWarning: invalid value encountered in greater\n",
      "  has_small_values = ((abs_vals < 10 ** (-self.digits)) & (abs_vals > 0)).any()\n"
     ]
    },
    {
     "data": {
      "text/html": [
       "<div>\n",
       "<style scoped>\n",
       "    .dataframe tbody tr th:only-of-type {\n",
       "        vertical-align: middle;\n",
       "    }\n",
       "\n",
       "    .dataframe tbody tr th {\n",
       "        vertical-align: top;\n",
       "    }\n",
       "\n",
       "    .dataframe thead th {\n",
       "        text-align: right;\n",
       "    }\n",
       "</style>\n",
       "<table border=\"1\" class=\"dataframe\">\n",
       "  <thead>\n",
       "    <tr style=\"text-align: right;\">\n",
       "      <th></th>\n",
       "      <th>Unnamed: 0</th>\n",
       "      <th>ID</th>\n",
       "      <th>class</th>\n",
       "      <th>20150720_N</th>\n",
       "      <th>20150602_N</th>\n",
       "      <th>20150517_N</th>\n",
       "      <th>20150501_N</th>\n",
       "      <th>20150415_N</th>\n",
       "      <th>20150330_N</th>\n",
       "      <th>20150314_N</th>\n",
       "      <th>...</th>\n",
       "      <th>20140610_N</th>\n",
       "      <th>20140525_N</th>\n",
       "      <th>20140509_N</th>\n",
       "      <th>20140423_N</th>\n",
       "      <th>20140407_N</th>\n",
       "      <th>20140322_N</th>\n",
       "      <th>20140218_N</th>\n",
       "      <th>20140202_N</th>\n",
       "      <th>20140117_N</th>\n",
       "      <th>20140101_N</th>\n",
       "    </tr>\n",
       "  </thead>\n",
       "  <tbody>\n",
       "    <tr>\n",
       "      <th>0</th>\n",
       "      <td>0</td>\n",
       "      <td>1</td>\n",
       "      <td>water</td>\n",
       "      <td>637.5950</td>\n",
       "      <td>658.668</td>\n",
       "      <td>-1882.030</td>\n",
       "      <td>-1924.36</td>\n",
       "      <td>997.904</td>\n",
       "      <td>-1739.990</td>\n",
       "      <td>630.087</td>\n",
       "      <td>...</td>\n",
       "      <td>NaN</td>\n",
       "      <td>-1043.160</td>\n",
       "      <td>-1942.490</td>\n",
       "      <td>267.138</td>\n",
       "      <td>NaN</td>\n",
       "      <td>NaN</td>\n",
       "      <td>211.328</td>\n",
       "      <td>-2203.020</td>\n",
       "      <td>-1180.19</td>\n",
       "      <td>433.906</td>\n",
       "    </tr>\n",
       "    <tr>\n",
       "      <th>1</th>\n",
       "      <td>1</td>\n",
       "      <td>2</td>\n",
       "      <td>water</td>\n",
       "      <td>634.2400</td>\n",
       "      <td>593.705</td>\n",
       "      <td>-1625.790</td>\n",
       "      <td>-1672.32</td>\n",
       "      <td>914.198</td>\n",
       "      <td>-692.386</td>\n",
       "      <td>707.626</td>\n",
       "      <td>...</td>\n",
       "      <td>NaN</td>\n",
       "      <td>-933.934</td>\n",
       "      <td>-625.385</td>\n",
       "      <td>120.059</td>\n",
       "      <td>364.858</td>\n",
       "      <td>476.972</td>\n",
       "      <td>220.878</td>\n",
       "      <td>-2250.000</td>\n",
       "      <td>-1360.56</td>\n",
       "      <td>524.075</td>\n",
       "    </tr>\n",
       "    <tr>\n",
       "      <th>2</th>\n",
       "      <td>3</td>\n",
       "      <td>4</td>\n",
       "      <td>water</td>\n",
       "      <td>58.0174</td>\n",
       "      <td>-1599.160</td>\n",
       "      <td>NaN</td>\n",
       "      <td>-1052.63</td>\n",
       "      <td>NaN</td>\n",
       "      <td>-1564.630</td>\n",
       "      <td>NaN</td>\n",
       "      <td>...</td>\n",
       "      <td>-1025.880</td>\n",
       "      <td>368.622</td>\n",
       "      <td>NaN</td>\n",
       "      <td>-1227.800</td>\n",
       "      <td>304.621</td>\n",
       "      <td>NaN</td>\n",
       "      <td>369.214</td>\n",
       "      <td>-2202.120</td>\n",
       "      <td>NaN</td>\n",
       "      <td>-1343.550</td>\n",
       "    </tr>\n",
       "    <tr>\n",
       "      <th>3</th>\n",
       "      <td>4</td>\n",
       "      <td>5</td>\n",
       "      <td>water</td>\n",
       "      <td>72.5180</td>\n",
       "      <td>NaN</td>\n",
       "      <td>380.436</td>\n",
       "      <td>-1256.93</td>\n",
       "      <td>515.805</td>\n",
       "      <td>-1413.180</td>\n",
       "      <td>-802.942</td>\n",
       "      <td>...</td>\n",
       "      <td>-1813.950</td>\n",
       "      <td>155.624</td>\n",
       "      <td>NaN</td>\n",
       "      <td>-924.073</td>\n",
       "      <td>432.150</td>\n",
       "      <td>282.833</td>\n",
       "      <td>298.320</td>\n",
       "      <td>-2197.360</td>\n",
       "      <td>NaN</td>\n",
       "      <td>-826.727</td>\n",
       "    </tr>\n",
       "    <tr>\n",
       "      <th>4</th>\n",
       "      <td>7</td>\n",
       "      <td>8</td>\n",
       "      <td>water</td>\n",
       "      <td>1136.4400</td>\n",
       "      <td>NaN</td>\n",
       "      <td>NaN</td>\n",
       "      <td>1647.83</td>\n",
       "      <td>1935.800</td>\n",
       "      <td>NaN</td>\n",
       "      <td>2158.980</td>\n",
       "      <td>...</td>\n",
       "      <td>1535.000</td>\n",
       "      <td>1959.430</td>\n",
       "      <td>-279.317</td>\n",
       "      <td>-384.915</td>\n",
       "      <td>-113.406</td>\n",
       "      <td>1020.720</td>\n",
       "      <td>1660.650</td>\n",
       "      <td>-116.801</td>\n",
       "      <td>-568.05</td>\n",
       "      <td>-1357.140</td>\n",
       "    </tr>\n",
       "    <tr>\n",
       "      <th>...</th>\n",
       "      <td>...</td>\n",
       "      <td>...</td>\n",
       "      <td>...</td>\n",
       "      <td>...</td>\n",
       "      <td>...</td>\n",
       "      <td>...</td>\n",
       "      <td>...</td>\n",
       "      <td>...</td>\n",
       "      <td>...</td>\n",
       "      <td>...</td>\n",
       "      <td>...</td>\n",
       "      <td>...</td>\n",
       "      <td>...</td>\n",
       "      <td>...</td>\n",
       "      <td>...</td>\n",
       "      <td>...</td>\n",
       "      <td>...</td>\n",
       "      <td>...</td>\n",
       "      <td>...</td>\n",
       "      <td>...</td>\n",
       "      <td>...</td>\n",
       "    </tr>\n",
       "    <tr>\n",
       "      <th>7995</th>\n",
       "      <td>10537</td>\n",
       "      <td>10538</td>\n",
       "      <td>impervious</td>\n",
       "      <td>1207.7000</td>\n",
       "      <td>984.620</td>\n",
       "      <td>NaN</td>\n",
       "      <td>1166.25</td>\n",
       "      <td>937.478</td>\n",
       "      <td>1072.700</td>\n",
       "      <td>823.896</td>\n",
       "      <td>...</td>\n",
       "      <td>1117.740</td>\n",
       "      <td>1176.600</td>\n",
       "      <td>1044.110</td>\n",
       "      <td>NaN</td>\n",
       "      <td>369.082</td>\n",
       "      <td>465.843</td>\n",
       "      <td>362.882</td>\n",
       "      <td>979.795</td>\n",
       "      <td>NaN</td>\n",
       "      <td>433.659</td>\n",
       "    </tr>\n",
       "    <tr>\n",
       "      <th>7996</th>\n",
       "      <td>10538</td>\n",
       "      <td>10539</td>\n",
       "      <td>impervious</td>\n",
       "      <td>2170.3500</td>\n",
       "      <td>1419.720</td>\n",
       "      <td>1361.000</td>\n",
       "      <td>1478.71</td>\n",
       "      <td>983.911</td>\n",
       "      <td>1262.110</td>\n",
       "      <td>1422.860</td>\n",
       "      <td>...</td>\n",
       "      <td>984.634</td>\n",
       "      <td>2128.970</td>\n",
       "      <td>1379.660</td>\n",
       "      <td>NaN</td>\n",
       "      <td>762.633</td>\n",
       "      <td>485.204</td>\n",
       "      <td>446.724</td>\n",
       "      <td>771.747</td>\n",
       "      <td>1589.06</td>\n",
       "      <td>506.936</td>\n",
       "    </tr>\n",
       "    <tr>\n",
       "      <th>7997</th>\n",
       "      <td>10541</td>\n",
       "      <td>10542</td>\n",
       "      <td>impervious</td>\n",
       "      <td>1895.6800</td>\n",
       "      <td>1454.740</td>\n",
       "      <td>NaN</td>\n",
       "      <td>1033.56</td>\n",
       "      <td>1930.380</td>\n",
       "      <td>1057.150</td>\n",
       "      <td>1471.600</td>\n",
       "      <td>...</td>\n",
       "      <td>888.408</td>\n",
       "      <td>2093.020</td>\n",
       "      <td>1232.110</td>\n",
       "      <td>1190.830</td>\n",
       "      <td>1441.460</td>\n",
       "      <td>1170.880</td>\n",
       "      <td>1095.000</td>\n",
       "      <td>1818.650</td>\n",
       "      <td>2501.72</td>\n",
       "      <td>1247.770</td>\n",
       "    </tr>\n",
       "    <tr>\n",
       "      <th>7998</th>\n",
       "      <td>10542</td>\n",
       "      <td>10543</td>\n",
       "      <td>impervious</td>\n",
       "      <td>3465.7400</td>\n",
       "      <td>1283.320</td>\n",
       "      <td>413.412</td>\n",
       "      <td>4391.05</td>\n",
       "      <td>1146.820</td>\n",
       "      <td>4473.050</td>\n",
       "      <td>1614.750</td>\n",
       "      <td>...</td>\n",
       "      <td>5833.760</td>\n",
       "      <td>4047.320</td>\n",
       "      <td>4515.800</td>\n",
       "      <td>433.177</td>\n",
       "      <td>277.296</td>\n",
       "      <td>744.143</td>\n",
       "      <td>NaN</td>\n",
       "      <td>3759.710</td>\n",
       "      <td>NaN</td>\n",
       "      <td>388.346</td>\n",
       "    </tr>\n",
       "    <tr>\n",
       "      <th>7999</th>\n",
       "      <td>10544</td>\n",
       "      <td>10545</td>\n",
       "      <td>impervious</td>\n",
       "      <td>6941.1900</td>\n",
       "      <td>1667.870</td>\n",
       "      <td>5084.780</td>\n",
       "      <td>NaN</td>\n",
       "      <td>1588.950</td>\n",
       "      <td>5978.190</td>\n",
       "      <td>NaN</td>\n",
       "      <td>...</td>\n",
       "      <td>7352.570</td>\n",
       "      <td>3289.860</td>\n",
       "      <td>3729.150</td>\n",
       "      <td>1994.980</td>\n",
       "      <td>NaN</td>\n",
       "      <td>5299.900</td>\n",
       "      <td>NaN</td>\n",
       "      <td>5983.130</td>\n",
       "      <td>1249.71</td>\n",
       "      <td>2424.230</td>\n",
       "    </tr>\n",
       "  </tbody>\n",
       "</table>\n",
       "<p>8000 rows × 30 columns</p>\n",
       "</div>"
      ],
      "text/plain": [
       "      Unnamed: 0     ID       class  20150720_N  20150602_N  20150517_N  \\\n",
       "0              0      1       water    637.5950     658.668   -1882.030   \n",
       "1              1      2       water    634.2400     593.705   -1625.790   \n",
       "2              3      4       water     58.0174   -1599.160         NaN   \n",
       "3              4      5       water     72.5180         NaN     380.436   \n",
       "4              7      8       water   1136.4400         NaN         NaN   \n",
       "...          ...    ...         ...         ...         ...         ...   \n",
       "7995       10537  10538  impervious   1207.7000     984.620         NaN   \n",
       "7996       10538  10539  impervious   2170.3500    1419.720    1361.000   \n",
       "7997       10541  10542  impervious   1895.6800    1454.740         NaN   \n",
       "7998       10542  10543  impervious   3465.7400    1283.320     413.412   \n",
       "7999       10544  10545  impervious   6941.1900    1667.870    5084.780   \n",
       "\n",
       "      20150501_N  20150415_N  20150330_N  20150314_N  ...  20140610_N  \\\n",
       "0       -1924.36     997.904   -1739.990     630.087  ...         NaN   \n",
       "1       -1672.32     914.198    -692.386     707.626  ...         NaN   \n",
       "2       -1052.63         NaN   -1564.630         NaN  ...   -1025.880   \n",
       "3       -1256.93     515.805   -1413.180    -802.942  ...   -1813.950   \n",
       "4        1647.83    1935.800         NaN    2158.980  ...    1535.000   \n",
       "...          ...         ...         ...         ...  ...         ...   \n",
       "7995     1166.25     937.478    1072.700     823.896  ...    1117.740   \n",
       "7996     1478.71     983.911    1262.110    1422.860  ...     984.634   \n",
       "7997     1033.56    1930.380    1057.150    1471.600  ...     888.408   \n",
       "7998     4391.05    1146.820    4473.050    1614.750  ...    5833.760   \n",
       "7999         NaN    1588.950    5978.190         NaN  ...    7352.570   \n",
       "\n",
       "      20140525_N  20140509_N  20140423_N  20140407_N  20140322_N  20140218_N  \\\n",
       "0      -1043.160   -1942.490     267.138         NaN         NaN     211.328   \n",
       "1       -933.934    -625.385     120.059     364.858     476.972     220.878   \n",
       "2        368.622         NaN   -1227.800     304.621         NaN     369.214   \n",
       "3        155.624         NaN    -924.073     432.150     282.833     298.320   \n",
       "4       1959.430    -279.317    -384.915    -113.406    1020.720    1660.650   \n",
       "...          ...         ...         ...         ...         ...         ...   \n",
       "7995    1176.600    1044.110         NaN     369.082     465.843     362.882   \n",
       "7996    2128.970    1379.660         NaN     762.633     485.204     446.724   \n",
       "7997    2093.020    1232.110    1190.830    1441.460    1170.880    1095.000   \n",
       "7998    4047.320    4515.800     433.177     277.296     744.143         NaN   \n",
       "7999    3289.860    3729.150    1994.980         NaN    5299.900         NaN   \n",
       "\n",
       "      20140202_N  20140117_N  20140101_N  \n",
       "0      -2203.020    -1180.19     433.906  \n",
       "1      -2250.000    -1360.56     524.075  \n",
       "2      -2202.120         NaN   -1343.550  \n",
       "3      -2197.360         NaN    -826.727  \n",
       "4       -116.801     -568.05   -1357.140  \n",
       "...          ...         ...         ...  \n",
       "7995     979.795         NaN     433.659  \n",
       "7996     771.747     1589.06     506.936  \n",
       "7997    1818.650     2501.72    1247.770  \n",
       "7998    3759.710         NaN     388.346  \n",
       "7999    5983.130     1249.71    2424.230  \n",
       "\n",
       "[8000 rows x 30 columns]"
      ]
     },
     "execution_count": 4,
     "metadata": {},
     "output_type": "execute_result"
    }
   ],
   "source": [
    "df\n"
   ]
  },
  {
   "cell_type": "code",
   "execution_count": 5,
   "id": "7a54debf",
   "metadata": {
    "execution": {
     "iopub.execute_input": "2025-06-12T04:53:10.956685Z",
     "iopub.status.busy": "2025-06-12T04:53:10.955853Z",
     "iopub.status.idle": "2025-06-12T04:53:10.965376Z",
     "shell.execute_reply": "2025-06-12T04:53:10.964620Z"
    },
    "papermill": {
     "duration": 0.01638,
     "end_time": "2025-06-12T04:53:10.966653",
     "exception": false,
     "start_time": "2025-06-12T04:53:10.950273",
     "status": "completed"
    },
    "tags": []
   },
   "outputs": [
    {
     "data": {
      "text/plain": [
       "Unnamed: 0       0\n",
       "ID               0\n",
       "class            0\n",
       "20150720_N     560\n",
       "20150602_N    1200\n",
       "20150517_N     800\n",
       "20150501_N     960\n",
       "20150415_N     480\n",
       "20150330_N    1120\n",
       "20150314_N     720\n",
       "20150226_N    1360\n",
       "20150210_N     640\n",
       "20150125_N    1040\n",
       "20150109_N     880\n",
       "20141117_N    1280\n",
       "20141101_N     400\n",
       "20141016_N    1440\n",
       "20140930_N     800\n",
       "20140813_N     560\n",
       "20140626_N    1600\n",
       "20140610_N     480\n",
       "20140525_N     720\n",
       "20140509_N     880\n",
       "20140423_N    1760\n",
       "20140407_N     640\n",
       "20140322_N    1120\n",
       "20140218_N    1440\n",
       "20140202_N     560\n",
       "20140117_N    1200\n",
       "20140101_N     400\n",
       "dtype: int64"
      ]
     },
     "execution_count": 5,
     "metadata": {},
     "output_type": "execute_result"
    }
   ],
   "source": [
    "df.isnull().sum()\n"
   ]
  },
  {
   "cell_type": "code",
   "execution_count": 6,
   "id": "87ff5ef7",
   "metadata": {
    "execution": {
     "iopub.execute_input": "2025-06-12T04:53:10.977465Z",
     "iopub.status.busy": "2025-06-12T04:53:10.977163Z",
     "iopub.status.idle": "2025-06-12T04:53:10.981807Z",
     "shell.execute_reply": "2025-06-12T04:53:10.980908Z"
    },
    "papermill": {
     "duration": 0.011713,
     "end_time": "2025-06-12T04:53:10.983297",
     "exception": false,
     "start_time": "2025-06-12T04:53:10.971584",
     "status": "completed"
    },
    "tags": []
   },
   "outputs": [],
   "source": [
    "ndvi_cols = [col for col in df.columns if '_N' in col]"
   ]
  },
  {
   "cell_type": "code",
   "execution_count": 7,
   "id": "0331872a",
   "metadata": {
    "execution": {
     "iopub.execute_input": "2025-06-12T04:53:10.993979Z",
     "iopub.status.busy": "2025-06-12T04:53:10.993675Z",
     "iopub.status.idle": "2025-06-12T04:53:11.327025Z",
     "shell.execute_reply": "2025-06-12T04:53:11.326155Z"
    },
    "papermill": {
     "duration": 0.340337,
     "end_time": "2025-06-12T04:53:11.328572",
     "exception": false,
     "start_time": "2025-06-12T04:53:10.988235",
     "status": "completed"
    },
    "tags": []
   },
   "outputs": [],
   "source": [
    "df[ndvi_cols] = df[ndvi_cols].interpolate(axis=1, limit_direction='both')"
   ]
  },
  {
   "cell_type": "code",
   "execution_count": 8,
   "id": "ba034433",
   "metadata": {
    "execution": {
     "iopub.execute_input": "2025-06-12T04:53:11.339685Z",
     "iopub.status.busy": "2025-06-12T04:53:11.339359Z",
     "iopub.status.idle": "2025-06-12T04:53:11.348833Z",
     "shell.execute_reply": "2025-06-12T04:53:11.348168Z"
    },
    "papermill": {
     "duration": 0.0166,
     "end_time": "2025-06-12T04:53:11.350140",
     "exception": false,
     "start_time": "2025-06-12T04:53:11.333540",
     "status": "completed"
    },
    "tags": []
   },
   "outputs": [
    {
     "data": {
      "text/plain": [
       "Unnamed: 0    0\n",
       "ID            0\n",
       "class         0\n",
       "20150720_N    0\n",
       "20150602_N    0\n",
       "20150517_N    0\n",
       "20150501_N    0\n",
       "20150415_N    0\n",
       "20150330_N    0\n",
       "20150314_N    0\n",
       "20150226_N    0\n",
       "20150210_N    0\n",
       "20150125_N    0\n",
       "20150109_N    0\n",
       "20141117_N    0\n",
       "20141101_N    0\n",
       "20141016_N    0\n",
       "20140930_N    0\n",
       "20140813_N    0\n",
       "20140626_N    0\n",
       "20140610_N    0\n",
       "20140525_N    0\n",
       "20140509_N    0\n",
       "20140423_N    0\n",
       "20140407_N    0\n",
       "20140322_N    0\n",
       "20140218_N    0\n",
       "20140202_N    0\n",
       "20140117_N    0\n",
       "20140101_N    0\n",
       "dtype: int64"
      ]
     },
     "execution_count": 8,
     "metadata": {},
     "output_type": "execute_result"
    }
   ],
   "source": [
    "df.isnull().sum()"
   ]
  },
  {
   "cell_type": "code",
   "execution_count": 9,
   "id": "e03b55de",
   "metadata": {
    "execution": {
     "iopub.execute_input": "2025-06-12T04:53:11.361155Z",
     "iopub.status.busy": "2025-06-12T04:53:11.360799Z",
     "iopub.status.idle": "2025-06-12T04:53:11.365370Z",
     "shell.execute_reply": "2025-06-12T04:53:11.364434Z"
    },
    "papermill": {
     "duration": 0.011642,
     "end_time": "2025-06-12T04:53:11.366730",
     "exception": false,
     "start_time": "2025-06-12T04:53:11.355088",
     "status": "completed"
    },
    "tags": []
   },
   "outputs": [],
   "source": [
    "import pandas as pd\n",
    "from sklearn.linear_model import LogisticRegression\n",
    "from sklearn.model_selection import train_test_split\n",
    "from sklearn.preprocessing import LabelEncoder\n",
    "from sklearn.metrics import classification_report"
   ]
  },
  {
   "cell_type": "code",
   "execution_count": 10,
   "id": "57ef77b2",
   "metadata": {
    "execution": {
     "iopub.execute_input": "2025-06-12T04:53:11.378125Z",
     "iopub.status.busy": "2025-06-12T04:53:11.377776Z",
     "iopub.status.idle": "2025-06-12T04:53:11.384795Z",
     "shell.execute_reply": "2025-06-12T04:53:11.383708Z"
    },
    "papermill": {
     "duration": 0.014549,
     "end_time": "2025-06-12T04:53:11.386364",
     "exception": false,
     "start_time": "2025-06-12T04:53:11.371815",
     "status": "completed"
    },
    "tags": []
   },
   "outputs": [],
   "source": [
    "le = LabelEncoder()\n",
    "df['class_encoded'] = le.fit_transform(df['class'])"
   ]
  },
  {
   "cell_type": "code",
   "execution_count": 11,
   "id": "a8251dae",
   "metadata": {
    "execution": {
     "iopub.execute_input": "2025-06-12T04:53:11.397556Z",
     "iopub.status.busy": "2025-06-12T04:53:11.397250Z",
     "iopub.status.idle": "2025-06-12T04:53:11.402389Z",
     "shell.execute_reply": "2025-06-12T04:53:11.401531Z"
    },
    "papermill": {
     "duration": 0.012429,
     "end_time": "2025-06-12T04:53:11.403682",
     "exception": false,
     "start_time": "2025-06-12T04:53:11.391253",
     "status": "completed"
    },
    "tags": []
   },
   "outputs": [],
   "source": [
    "def add_features(df, ndvi_cols):\n",
    "    \n",
    "    ndvi_data = df[ndvi_cols].values\n",
    "\n",
    "    df['ndvi_mean'] = np.nanmean(ndvi_data, axis=1)\n",
    "    df['ndvi_std'] = np.nanstd(ndvi_data, axis=1)\n",
    "    df['ndvi_min'] = np.nanmin(ndvi_data, axis=1)\n",
    "    df['ndvi_max'] = np.nanmax(ndvi_data, axis=1)\n",
    "    df['ndvi_range'] = df['ndvi_max'] - df['ndvi_min']\n",
    "\n",
    "    return df\n"
   ]
  },
  {
   "cell_type": "code",
   "execution_count": 12,
   "id": "531bc407",
   "metadata": {
    "execution": {
     "iopub.execute_input": "2025-06-12T04:53:11.414509Z",
     "iopub.status.busy": "2025-06-12T04:53:11.414214Z",
     "iopub.status.idle": "2025-06-12T04:53:11.418411Z",
     "shell.execute_reply": "2025-06-12T04:53:11.417595Z"
    },
    "papermill": {
     "duration": 0.011212,
     "end_time": "2025-06-12T04:53:11.419826",
     "exception": false,
     "start_time": "2025-06-12T04:53:11.408614",
     "status": "completed"
    },
    "tags": []
   },
   "outputs": [],
   "source": [
    "ndvi_cols = [col for col in df.columns if col.endswith('_N')]\n"
   ]
  },
  {
   "cell_type": "code",
   "execution_count": 13,
   "id": "624cfcfe",
   "metadata": {
    "execution": {
     "iopub.execute_input": "2025-06-12T04:53:11.431295Z",
     "iopub.status.busy": "2025-06-12T04:53:11.430491Z",
     "iopub.status.idle": "2025-06-12T04:53:11.456864Z",
     "shell.execute_reply": "2025-06-12T04:53:11.455872Z"
    },
    "papermill": {
     "duration": 0.033743,
     "end_time": "2025-06-12T04:53:11.458657",
     "exception": false,
     "start_time": "2025-06-12T04:53:11.424914",
     "status": "completed"
    },
    "tags": []
   },
   "outputs": [],
   "source": [
    "df = add_features(df, ndvi_cols)\n"
   ]
  },
  {
   "cell_type": "code",
   "execution_count": 14,
   "id": "919d388a",
   "metadata": {
    "execution": {
     "iopub.execute_input": "2025-06-12T04:53:11.470232Z",
     "iopub.status.busy": "2025-06-12T04:53:11.469899Z",
     "iopub.status.idle": "2025-06-12T04:53:11.489231Z",
     "shell.execute_reply": "2025-06-12T04:53:11.488293Z"
    },
    "papermill": {
     "duration": 0.026428,
     "end_time": "2025-06-12T04:53:11.490717",
     "exception": false,
     "start_time": "2025-06-12T04:53:11.464289",
     "status": "completed"
    },
    "tags": []
   },
   "outputs": [],
   "source": [
    "X = df[ndvi_cols + ['ndvi_mean', 'ndvi_std', 'ndvi_range']]\n",
    "y = df['class_encoded']\n",
    "\n",
    "X_train, X_val, y_train, y_val = train_test_split(X, y, stratify=y, test_size=0.2, random_state=42)"
   ]
  },
  {
   "cell_type": "code",
   "execution_count": 15,
   "id": "9031549e",
   "metadata": {
    "execution": {
     "iopub.execute_input": "2025-06-12T04:53:11.501353Z",
     "iopub.status.busy": "2025-06-12T04:53:11.501031Z",
     "iopub.status.idle": "2025-06-12T04:53:16.848167Z",
     "shell.execute_reply": "2025-06-12T04:53:16.845039Z"
    },
    "papermill": {
     "duration": 5.354488,
     "end_time": "2025-06-12T04:53:16.850027",
     "exception": false,
     "start_time": "2025-06-12T04:53:11.495539",
     "status": "completed"
    },
    "tags": []
   },
   "outputs": [
    {
     "name": "stdout",
     "output_type": "stream",
     "text": [
      "Validation Accuracy: 0.873125\n"
     ]
    },
    {
     "name": "stderr",
     "output_type": "stream",
     "text": [
      "/usr/local/lib/python3.11/dist-packages/sklearn/linear_model/_logistic.py:458: ConvergenceWarning: lbfgs failed to converge (status=1):\n",
      "STOP: TOTAL NO. OF ITERATIONS REACHED LIMIT.\n",
      "\n",
      "Increase the number of iterations (max_iter) or scale the data as shown in:\n",
      "    https://scikit-learn.org/stable/modules/preprocessing.html\n",
      "Please also refer to the documentation for alternative solver options:\n",
      "    https://scikit-learn.org/stable/modules/linear_model.html#logistic-regression\n",
      "  n_iter_i = _check_optimize_result(\n"
     ]
    }
   ],
   "source": [
    "from sklearn.metrics import accuracy_score\n",
    "\n",
    "model = LogisticRegression(max_iter=1000, multi_class='multinomial', solver='lbfgs')\n",
    "model.fit(X_train, y_train)\n",
    "\n",
    "y_val_pred = model.predict(X_val)\n",
    "val_acc = accuracy_score(y_val, y_val_pred)\n",
    "print(\"Validation Accuracy:\", val_acc)\n"
   ]
  },
  {
   "cell_type": "code",
   "execution_count": 16,
   "id": "207910d7",
   "metadata": {
    "execution": {
     "iopub.execute_input": "2025-06-12T04:53:16.871021Z",
     "iopub.status.busy": "2025-06-12T04:53:16.870651Z",
     "iopub.status.idle": "2025-06-12T04:53:17.594397Z",
     "shell.execute_reply": "2025-06-12T04:53:17.591676Z"
    },
    "papermill": {
     "duration": 0.736527,
     "end_time": "2025-06-12T04:53:17.598058",
     "exception": false,
     "start_time": "2025-06-12T04:53:16.861531",
     "status": "completed"
    },
    "tags": []
   },
   "outputs": [
    {
     "name": "stdout",
     "output_type": "stream",
     "text": [
      "Validation Accuracy: 0.901875\n"
     ]
    }
   ],
   "source": [
    "from sklearn.metrics import accuracy_score\n",
    "from sklearn.preprocessing import StandardScaler\n",
    "from sklearn.linear_model import LogisticRegression\n",
    "\n",
    "# Scale data\n",
    "scaler = StandardScaler()\n",
    "X_train_scaled = scaler.fit_transform(X_train)\n",
    "X_val_scaled = scaler.transform(X_val)\n",
    "\n",
    "# Fit model\n",
    "model = LogisticRegression(\n",
    "    multi_class='multinomial',\n",
    "    solver='lbfgs',\n",
    "    max_iter=1000\n",
    ")\n",
    "model.fit(X_train_scaled, y_train)\n",
    "\n",
    "# Predict & evaluate\n",
    "y_val_pred = model.predict(X_val_scaled)\n",
    "val_acc = accuracy_score(y_val, y_val_pred)\n",
    "print(\"Validation Accuracy:\", val_acc)\n"
   ]
  },
  {
   "cell_type": "code",
   "execution_count": 17,
   "id": "a9226882",
   "metadata": {
    "execution": {
     "iopub.execute_input": "2025-06-12T04:53:17.627078Z",
     "iopub.status.busy": "2025-06-12T04:53:17.626511Z",
     "iopub.status.idle": "2025-06-12T04:53:17.665452Z",
     "shell.execute_reply": "2025-06-12T04:53:17.664672Z"
    },
    "papermill": {
     "duration": 0.051628,
     "end_time": "2025-06-12T04:53:17.667150",
     "exception": false,
     "start_time": "2025-06-12T04:53:17.615522",
     "status": "completed"
    },
    "tags": []
   },
   "outputs": [],
   "source": [
    "df2 = pd.read_csv(\"/kaggle/input/summer-analytics-mid-hackathon/hacktest.csv\")"
   ]
  },
  {
   "cell_type": "code",
   "execution_count": 18,
   "id": "6043a21e",
   "metadata": {
    "execution": {
     "iopub.execute_input": "2025-06-12T04:53:17.685241Z",
     "iopub.status.busy": "2025-06-12T04:53:17.684871Z",
     "iopub.status.idle": "2025-06-12T04:53:17.841784Z",
     "shell.execute_reply": "2025-06-12T04:53:17.840558Z"
    },
    "papermill": {
     "duration": 0.167462,
     "end_time": "2025-06-12T04:53:17.843242",
     "exception": true,
     "start_time": "2025-06-12T04:53:17.675780",
     "status": "failed"
    },
    "tags": []
   },
   "outputs": [
    {
     "ename": "KeyError",
     "evalue": "\"['ndvi_mean', 'ndvi_std', 'ndvi_range'] not in index\"",
     "output_type": "error",
     "traceback": [
      "\u001b[0;31m---------------------------------------------------------------------------\u001b[0m",
      "\u001b[0;31mKeyError\u001b[0m                                  Traceback (most recent call last)",
      "\u001b[0;32m/tmp/ipykernel_13/3629874190.py\u001b[0m in \u001b[0;36m<cell line: 0>\u001b[0;34m()\u001b[0m\n\u001b[0;32m----> 1\u001b[0;31m \u001b[0mX_test\u001b[0m \u001b[0;34m=\u001b[0m \u001b[0mdf2\u001b[0m\u001b[0;34m[\u001b[0m\u001b[0mndvi_cols\u001b[0m \u001b[0;34m+\u001b[0m \u001b[0;34m[\u001b[0m\u001b[0;34m'ndvi_mean'\u001b[0m\u001b[0;34m,\u001b[0m \u001b[0;34m'ndvi_std'\u001b[0m\u001b[0;34m,\u001b[0m \u001b[0;34m'ndvi_range'\u001b[0m\u001b[0;34m]\u001b[0m\u001b[0;34m]\u001b[0m\u001b[0;34m\u001b[0m\u001b[0;34m\u001b[0m\u001b[0m\n\u001b[0m\u001b[1;32m      2\u001b[0m \u001b[0mtest_pred\u001b[0m \u001b[0;34m=\u001b[0m \u001b[0mmodel\u001b[0m\u001b[0;34m.\u001b[0m\u001b[0mpredict\u001b[0m\u001b[0;34m(\u001b[0m\u001b[0mX_test\u001b[0m\u001b[0;34m)\u001b[0m\u001b[0;34m\u001b[0m\u001b[0;34m\u001b[0m\u001b[0m\n\u001b[1;32m      3\u001b[0m \u001b[0;34m\u001b[0m\u001b[0m\n\u001b[1;32m      4\u001b[0m \u001b[0mdf2\u001b[0m\u001b[0;34m[\u001b[0m\u001b[0;34m'class'\u001b[0m\u001b[0;34m]\u001b[0m \u001b[0;34m=\u001b[0m \u001b[0mle\u001b[0m\u001b[0;34m.\u001b[0m\u001b[0minverse_transform\u001b[0m\u001b[0;34m(\u001b[0m\u001b[0mtest_pred\u001b[0m\u001b[0;34m)\u001b[0m\u001b[0;34m\u001b[0m\u001b[0;34m\u001b[0m\u001b[0m\n",
      "\u001b[0;32m/usr/local/lib/python3.11/dist-packages/pandas/core/frame.py\u001b[0m in \u001b[0;36m__getitem__\u001b[0;34m(self, key)\u001b[0m\n\u001b[1;32m   4106\u001b[0m             \u001b[0;32mif\u001b[0m \u001b[0mis_iterator\u001b[0m\u001b[0;34m(\u001b[0m\u001b[0mkey\u001b[0m\u001b[0;34m)\u001b[0m\u001b[0;34m:\u001b[0m\u001b[0;34m\u001b[0m\u001b[0;34m\u001b[0m\u001b[0m\n\u001b[1;32m   4107\u001b[0m                 \u001b[0mkey\u001b[0m \u001b[0;34m=\u001b[0m \u001b[0mlist\u001b[0m\u001b[0;34m(\u001b[0m\u001b[0mkey\u001b[0m\u001b[0;34m)\u001b[0m\u001b[0;34m\u001b[0m\u001b[0;34m\u001b[0m\u001b[0m\n\u001b[0;32m-> 4108\u001b[0;31m             \u001b[0mindexer\u001b[0m \u001b[0;34m=\u001b[0m \u001b[0mself\u001b[0m\u001b[0;34m.\u001b[0m\u001b[0mcolumns\u001b[0m\u001b[0;34m.\u001b[0m\u001b[0m_get_indexer_strict\u001b[0m\u001b[0;34m(\u001b[0m\u001b[0mkey\u001b[0m\u001b[0;34m,\u001b[0m \u001b[0;34m\"columns\"\u001b[0m\u001b[0;34m)\u001b[0m\u001b[0;34m[\u001b[0m\u001b[0;36m1\u001b[0m\u001b[0;34m]\u001b[0m\u001b[0;34m\u001b[0m\u001b[0;34m\u001b[0m\u001b[0m\n\u001b[0m\u001b[1;32m   4109\u001b[0m \u001b[0;34m\u001b[0m\u001b[0m\n\u001b[1;32m   4110\u001b[0m         \u001b[0;31m# take() does not accept boolean indexers\u001b[0m\u001b[0;34m\u001b[0m\u001b[0;34m\u001b[0m\u001b[0m\n",
      "\u001b[0;32m/usr/local/lib/python3.11/dist-packages/pandas/core/indexes/base.py\u001b[0m in \u001b[0;36m_get_indexer_strict\u001b[0;34m(self, key, axis_name)\u001b[0m\n\u001b[1;32m   6198\u001b[0m             \u001b[0mkeyarr\u001b[0m\u001b[0;34m,\u001b[0m \u001b[0mindexer\u001b[0m\u001b[0;34m,\u001b[0m \u001b[0mnew_indexer\u001b[0m \u001b[0;34m=\u001b[0m \u001b[0mself\u001b[0m\u001b[0;34m.\u001b[0m\u001b[0m_reindex_non_unique\u001b[0m\u001b[0;34m(\u001b[0m\u001b[0mkeyarr\u001b[0m\u001b[0;34m)\u001b[0m\u001b[0;34m\u001b[0m\u001b[0;34m\u001b[0m\u001b[0m\n\u001b[1;32m   6199\u001b[0m \u001b[0;34m\u001b[0m\u001b[0m\n\u001b[0;32m-> 6200\u001b[0;31m         \u001b[0mself\u001b[0m\u001b[0;34m.\u001b[0m\u001b[0m_raise_if_missing\u001b[0m\u001b[0;34m(\u001b[0m\u001b[0mkeyarr\u001b[0m\u001b[0;34m,\u001b[0m \u001b[0mindexer\u001b[0m\u001b[0;34m,\u001b[0m \u001b[0maxis_name\u001b[0m\u001b[0;34m)\u001b[0m\u001b[0;34m\u001b[0m\u001b[0;34m\u001b[0m\u001b[0m\n\u001b[0m\u001b[1;32m   6201\u001b[0m \u001b[0;34m\u001b[0m\u001b[0m\n\u001b[1;32m   6202\u001b[0m         \u001b[0mkeyarr\u001b[0m \u001b[0;34m=\u001b[0m \u001b[0mself\u001b[0m\u001b[0;34m.\u001b[0m\u001b[0mtake\u001b[0m\u001b[0;34m(\u001b[0m\u001b[0mindexer\u001b[0m\u001b[0;34m)\u001b[0m\u001b[0;34m\u001b[0m\u001b[0;34m\u001b[0m\u001b[0m\n",
      "\u001b[0;32m/usr/local/lib/python3.11/dist-packages/pandas/core/indexes/base.py\u001b[0m in \u001b[0;36m_raise_if_missing\u001b[0;34m(self, key, indexer, axis_name)\u001b[0m\n\u001b[1;32m   6250\u001b[0m \u001b[0;34m\u001b[0m\u001b[0m\n\u001b[1;32m   6251\u001b[0m             \u001b[0mnot_found\u001b[0m \u001b[0;34m=\u001b[0m \u001b[0mlist\u001b[0m\u001b[0;34m(\u001b[0m\u001b[0mensure_index\u001b[0m\u001b[0;34m(\u001b[0m\u001b[0mkey\u001b[0m\u001b[0;34m)\u001b[0m\u001b[0;34m[\u001b[0m\u001b[0mmissing_mask\u001b[0m\u001b[0;34m.\u001b[0m\u001b[0mnonzero\u001b[0m\u001b[0;34m(\u001b[0m\u001b[0;34m)\u001b[0m\u001b[0;34m[\u001b[0m\u001b[0;36m0\u001b[0m\u001b[0;34m]\u001b[0m\u001b[0;34m]\u001b[0m\u001b[0;34m.\u001b[0m\u001b[0munique\u001b[0m\u001b[0;34m(\u001b[0m\u001b[0;34m)\u001b[0m\u001b[0;34m)\u001b[0m\u001b[0;34m\u001b[0m\u001b[0;34m\u001b[0m\u001b[0m\n\u001b[0;32m-> 6252\u001b[0;31m             \u001b[0;32mraise\u001b[0m \u001b[0mKeyError\u001b[0m\u001b[0;34m(\u001b[0m\u001b[0;34mf\"{not_found} not in index\"\u001b[0m\u001b[0;34m)\u001b[0m\u001b[0;34m\u001b[0m\u001b[0;34m\u001b[0m\u001b[0m\n\u001b[0m\u001b[1;32m   6253\u001b[0m \u001b[0;34m\u001b[0m\u001b[0m\n\u001b[1;32m   6254\u001b[0m     \u001b[0;34m@\u001b[0m\u001b[0moverload\u001b[0m\u001b[0;34m\u001b[0m\u001b[0;34m\u001b[0m\u001b[0m\n",
      "\u001b[0;31mKeyError\u001b[0m: \"['ndvi_mean', 'ndvi_std', 'ndvi_range'] not in index\""
     ]
    }
   ],
   "source": [
    "X_test = df2[ndvi_cols + ['ndvi_mean', 'ndvi_std', 'ndvi_range']]\n",
    "test_pred = model.predict(X_test)\n",
    "\n",
    "df2['class'] = le.inverse_transform(test_pred)\n"
   ]
  },
  {
   "cell_type": "code",
   "execution_count": null,
   "id": "8b717766",
   "metadata": {
    "execution": {
     "iopub.execute_input": "2025-06-12T04:44:09.047547Z",
     "iopub.status.busy": "2025-06-12T04:44:09.047190Z",
     "iopub.status.idle": "2025-06-12T04:44:09.059339Z",
     "shell.execute_reply": "2025-06-12T04:44:09.057940Z",
     "shell.execute_reply.started": "2025-06-12T04:44:09.047524Z"
    },
    "papermill": {
     "duration": null,
     "end_time": null,
     "exception": null,
     "start_time": null,
     "status": "pending"
    },
    "tags": []
   },
   "outputs": [],
   "source": [
    "df2 = add_features(df2)\n"
   ]
  },
  {
   "cell_type": "code",
   "execution_count": null,
   "id": "0fc4c10d",
   "metadata": {
    "execution": {
     "iopub.execute_input": "2025-06-12T04:45:28.337144Z",
     "iopub.status.busy": "2025-06-12T04:45:28.336784Z",
     "iopub.status.idle": "2025-06-12T04:45:28.348540Z",
     "shell.execute_reply": "2025-06-12T04:45:28.347755Z",
     "shell.execute_reply.started": "2025-06-12T04:45:28.337123Z"
    },
    "papermill": {
     "duration": null,
     "end_time": null,
     "exception": null,
     "start_time": null,
     "status": "pending"
    },
    "tags": []
   },
   "outputs": [],
   "source": [
    "df2 = add_features(df2, ndvi_cols)\n"
   ]
  },
  {
   "cell_type": "code",
   "execution_count": null,
   "id": "893d767f",
   "metadata": {
    "execution": {
     "iopub.execute_input": "2025-06-12T04:45:47.422998Z",
     "iopub.status.busy": "2025-06-12T04:45:47.422656Z",
     "iopub.status.idle": "2025-06-12T04:45:47.437269Z",
     "shell.execute_reply": "2025-06-12T04:45:47.436364Z",
     "shell.execute_reply.started": "2025-06-12T04:45:47.422975Z"
    },
    "papermill": {
     "duration": null,
     "end_time": null,
     "exception": null,
     "start_time": null,
     "status": "pending"
    },
    "tags": []
   },
   "outputs": [],
   "source": [
    "X_test = df2[ndvi_cols + ['ndvi_mean', 'ndvi_std', 'ndvi_range']]\n",
    "X_test_scaled = scaler.transform(X_test)\n",
    "\n",
    "test_pred = model.predict(X_test_scaled)\n",
    "df2['class'] = le.inverse_transform(test_pred)\n"
   ]
  },
  {
   "cell_type": "code",
   "execution_count": null,
   "id": "bb8d2ff3",
   "metadata": {
    "execution": {
     "iopub.execute_input": "2025-06-12T04:46:20.268455Z",
     "iopub.status.busy": "2025-06-12T04:46:20.268156Z",
     "iopub.status.idle": "2025-06-12T04:46:20.282795Z",
     "shell.execute_reply": "2025-06-12T04:46:20.282029Z",
     "shell.execute_reply.started": "2025-06-12T04:46:20.268434Z"
    },
    "papermill": {
     "duration": null,
     "end_time": null,
     "exception": null,
     "start_time": null,
     "status": "pending"
    },
    "tags": []
   },
   "outputs": [],
   "source": [
    "submission = df2[['ID', 'class']]\n",
    "submission.to_csv('submission.csv', index=False)\n",
    "print(\"Submission file created: submission.csv\")"
   ]
  },
  {
   "cell_type": "code",
   "execution_count": null,
   "id": "a3a8bc9a",
   "metadata": {
    "execution": {
     "iopub.execute_input": "2025-06-12T04:50:00.427638Z",
     "iopub.status.busy": "2025-06-12T04:50:00.427301Z",
     "iopub.status.idle": "2025-06-12T04:50:00.438177Z",
     "shell.execute_reply": "2025-06-12T04:50:00.437323Z",
     "shell.execute_reply.started": "2025-06-12T04:50:00.427615Z"
    },
    "papermill": {
     "duration": null,
     "end_time": null,
     "exception": null,
     "start_time": null,
     "status": "pending"
    },
    "tags": []
   },
   "outputs": [],
   "source": [
    "submission"
   ]
  },
  {
   "cell_type": "code",
   "execution_count": null,
   "id": "f3208e37",
   "metadata": {
    "papermill": {
     "duration": null,
     "end_time": null,
     "exception": null,
     "start_time": null,
     "status": "pending"
    },
    "tags": []
   },
   "outputs": [],
   "source": []
  }
 ],
 "metadata": {
  "kaggle": {
   "accelerator": "none",
   "dataSources": [
    {
     "databundleVersionId": 12585144,
     "sourceId": 104491,
     "sourceType": "competition"
    }
   ],
   "dockerImageVersionId": 31040,
   "isGpuEnabled": false,
   "isInternetEnabled": false,
   "language": "python",
   "sourceType": "notebook"
  },
  "kernelspec": {
   "display_name": "Python 3",
   "language": "python",
   "name": "python3"
  },
  "language_info": {
   "codemirror_mode": {
    "name": "ipython",
    "version": 3
   },
   "file_extension": ".py",
   "mimetype": "text/x-python",
   "name": "python",
   "nbconvert_exporter": "python",
   "pygments_lexer": "ipython3",
   "version": "3.11.11"
  },
  "papermill": {
   "default_parameters": {},
   "duration": 16.500495,
   "end_time": "2025-06-12T04:53:18.567890",
   "environment_variables": {},
   "exception": true,
   "input_path": "__notebook__.ipynb",
   "output_path": "__notebook__.ipynb",
   "parameters": {},
   "start_time": "2025-06-12T04:53:02.067395",
   "version": "2.6.0"
  }
 },
 "nbformat": 4,
 "nbformat_minor": 5
}
